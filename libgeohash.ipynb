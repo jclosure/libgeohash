{
 "cells": [
  {
   "cell_type": "markdown",
   "metadata": {},
   "source": [
    "## Python wrapper library for libgeohash\n",
    "\n",
    "https://github.com/simplegeo/libgeohash"
   ]
  },
  {
   "cell_type": "code",
   "execution_count": 1,
   "metadata": {},
   "outputs": [],
   "source": [
    "import ctypes"
   ]
  },
  {
   "cell_type": "code",
   "execution_count": 10,
   "metadata": {},
   "outputs": [],
   "source": [
    "# compile .so with: gcc -fPIC -shared -o geohash.so geohash.c\n",
    "\n",
    "_geohash = ctypes.CDLL('./geohash_macos.so')"
   ]
  },
  {
   "cell_type": "code",
   "execution_count": 3,
   "metadata": {},
   "outputs": [],
   "source": [
    "# convenience function for wrapping c functions\n",
    "\n",
    "def wrap_function(lib, funcname, restype, argtypes):\n",
    "    \"\"\"Simplify wrapping ctypes functions\"\"\"\n",
    "    func = lib.__getattr__(funcname)\n",
    "    func.restype = restype\n",
    "    func.argtypes = argtypes\n",
    "    return func"
   ]
  },
  {
   "cell_type": "markdown",
   "metadata": {},
   "source": [
    "### Define classes to represent structs used in the c api"
   ]
  },
  {
   "cell_type": "code",
   "execution_count": 4,
   "metadata": {},
   "outputs": [],
   "source": [
    "class GeoBoxDimension(ctypes.Structure):\n",
    "    _fields_ = [('height', ctypes.c_double), ('width', ctypes.c_double)]\n",
    "\n",
    "    def __repr__(self):\n",
    "        return '({0}, {1})'.format(self.height, self.width)\n",
    "    \n",
    "    \n",
    "class GeoCoord(ctypes.Structure):\n",
    "    _fields_ = [('latitude', ctypes.c_double), ('longitude', ctypes.c_double), ('north', ctypes.c_double), \n",
    "                ('east', ctypes.c_double), ('south', ctypes.c_double), ('west', ctypes.c_double), \n",
    "                ('dimension', GeoBoxDimension)]\n",
    "\n",
    "    def __repr__(self):\n",
    "        return '({0}, {1})'.format(self.latitude, self.longitude)"
   ]
  },
  {
   "cell_type": "markdown",
   "metadata": {},
   "source": [
    "### Wrap the c api in python functions"
   ]
  },
  {
   "cell_type": "code",
   "execution_count": 5,
   "metadata": {},
   "outputs": [],
   "source": [
    "geohash_encode = wrap_function(\n",
    "    _geohash, \n",
    "    'geohash_encode', \n",
    "    ctypes.c_char_p, \n",
    "    (ctypes.c_double, ctypes.c_double, ctypes.c_int)\n",
    ")\n",
    "\n",
    "\n",
    "geohash_decode = wrap_function(\n",
    "    _geohash,\n",
    "    'geohash_decode',\n",
    "    GeoCoord,\n",
    "    [ctypes.c_char_p]\n",
    ")\n",
    "\n",
    "\n",
    "geohash_neighbors = wrap_function(\n",
    "    _geohash,\n",
    "    'geohash_neighbors',\n",
    "    ctypes.POINTER(ctypes.c_char_p),\n",
    "    [ctypes.c_char_p]\n",
    ")\n",
    "\n",
    "\n",
    "geohash_dimensions_for_precision = wrap_function(\n",
    "    _geohash, \n",
    "    'geohash_dimensions_for_precision', \n",
    "    GeoBoxDimension, \n",
    "    [ctypes.c_int]\n",
    ")"
   ]
  },
  {
   "cell_type": "markdown",
   "metadata": {},
   "source": [
    "### exercise the api"
   ]
  },
  {
   "cell_type": "code",
   "execution_count": 6,
   "metadata": {},
   "outputs": [
    {
     "data": {
      "text/plain": [
       "b'sp3e9'"
      ]
     },
     "execution_count": 6,
     "metadata": {},
     "output_type": "execute_result"
    }
   ],
   "source": [
    "geohash_encode(41.41845703125, 2.17529296875, 5)"
   ]
  },
  {
   "cell_type": "code",
   "execution_count": 7,
   "metadata": {},
   "outputs": [
    {
     "data": {
      "text/plain": [
       "(41.41845703125, 2.17529296875)"
      ]
     },
     "execution_count": 7,
     "metadata": {},
     "output_type": "execute_result"
    }
   ],
   "source": [
    "geohash_decode(b'sp3e9')"
   ]
  },
  {
   "cell_type": "code",
   "execution_count": 8,
   "metadata": {},
   "outputs": [
    {
     "data": {
      "text/plain": [
       "[b'sp3ec',\n",
       " b'sp3ef',\n",
       " b'sp3ed',\n",
       " b'sp3e6',\n",
       " b'sp3e3',\n",
       " b'sp3e2',\n",
       " b'sp3e8',\n",
       " b'sp3eb']"
      ]
     },
     "execution_count": 8,
     "metadata": {},
     "output_type": "execute_result"
    }
   ],
   "source": [
    "a = geohash_neighbors(b'sp3e9')\n",
    "[a[i] for i in range(0,8)] # there are 8 neighbors"
   ]
  },
  {
   "cell_type": "code",
   "execution_count": 9,
   "metadata": {},
   "outputs": [
    {
     "data": {
      "text/plain": [
       "(0.0054931640625, 0.010986328125)"
      ]
     },
     "execution_count": 9,
     "metadata": {},
     "output_type": "execute_result"
    }
   ],
   "source": [
    "geohash_dimensions_for_precision(6)"
   ]
  },
  {
   "cell_type": "code",
   "execution_count": null,
   "metadata": {},
   "outputs": [],
   "source": []
  }
 ],
 "metadata": {
  "kernelspec": {
   "display_name": "Python 3",
   "language": "python",
   "name": "python3"
  },
  "language_info": {
   "codemirror_mode": {
    "name": "ipython",
    "version": 3
   },
   "file_extension": ".py",
   "mimetype": "text/x-python",
   "name": "python",
   "nbconvert_exporter": "python",
   "pygments_lexer": "ipython3",
   "version": "3.7.4"
  }
 },
 "nbformat": 4,
 "nbformat_minor": 2
}
